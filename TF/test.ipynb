{
 "cells": [
  {
   "cell_type": "code",
   "execution_count": 3,
   "metadata": {},
   "outputs": [],
   "source": [
    "from transformers import pipeline\n",
    "import pandas as pd"
   ]
  },
  {
   "cell_type": "code",
   "execution_count": 2,
   "metadata": {},
   "outputs": [],
   "source": [
    "pipe = pipeline(\"text2text-generation\",model=\"t5-small-FT-false_statements\\checkpoint-11700\")"
   ]
  },
  {
   "cell_type": "code",
   "execution_count": 12,
   "metadata": {},
   "outputs": [
    {
     "name": "stdout",
     "output_type": "stream",
     "text": [
      "Example: The former Chief of General Staff Franz Halder was instrumental in spreading this legend in war historiography. Together with other officers in the United States Army's war history research group, the Operational History (German) Section, he produced studies on warfare that characterized the Wehrmacht's warfare as decent and heroic. \n",
      "false_statement: Franz Halder was not instrumental in spreading this legend in war historiography.\n"
     ]
    },
    {
     "name": "stderr",
     "output_type": "stream",
     "text": [
      "c:\\Users\\newzn\\Projects\\AutoQuiz\\.venv\\Lib\\site-packages\\transformers\\generation\\utils.py:1258: UserWarning: Using the model-agnostic default `max_length` (=20) to control the generation length. We recommend setting `max_new_tokens` to control the maximum length of the generation.\n",
      "  warnings.warn(\n"
     ]
    }
   ],
   "source": [
    "example = \"The former Chief of General Staff Franz Halder was instrumental in spreading this legend in war historiography. Together with other officers in the United States Army's war history research group, the Operational History (German) Section, he produced studies on warfare that characterized the Wehrmacht's warfare as decent and heroic. \"#pd.read_csv(\"false_statements.csv\")['text'][3]\n",
    "false_statement = pipe(example)[0]['generated_text']\n",
    "print(f\"Example: {example}\")\n",
    "print(f\"false_statement: {false_statement}\")"
   ]
  }
 ],
 "metadata": {
  "kernelspec": {
   "display_name": ".venv",
   "language": "python",
   "name": "python3"
  },
  "language_info": {
   "codemirror_mode": {
    "name": "ipython",
    "version": 3
   },
   "file_extension": ".py",
   "mimetype": "text/x-python",
   "name": "python",
   "nbconvert_exporter": "python",
   "pygments_lexer": "ipython3",
   "version": "3.11.9"
  }
 },
 "nbformat": 4,
 "nbformat_minor": 2
}
